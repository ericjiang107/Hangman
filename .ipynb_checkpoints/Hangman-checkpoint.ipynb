{
 "cells": [
  {
   "cell_type": "code",
   "execution_count": 48,
   "id": "ad7dbc79",
   "metadata": {},
   "outputs": [],
   "source": [
    "import random\n",
    "\n",
    "class hangman():\n",
    "    def __init__(self):\n",
    "        self.list1 = [\"hungry\", \"food\", \"mcdonald\", \"burgerking\", \"wendy\", \"popeyes\", \"whitecastle\"]\n",
    "        self.empty_string = \"\"\n",
    "        \n",
    "    def chosen(self):\n",
    "        choice = random.choice(self.list1)\n",
    "        print(f'{choice}')\n",
    "        return choice\n",
    "    \n",
    "# Testing the chosen function\n",
    "# test = hangman()\n",
    "# print(test.chosen())\n",
    "\n",
    "    def player(self, choice):\n",
    "        letter = input(\"Please enter a letter: \")\n",
    "        if letter in choice:\n",
    "            print(f'Nice! ({letter}) is in the word!')\n",
    "            self.empty_string += letter\n",
    "            print(f'{self.empty_string}')\n",
    "        else:\n",
    "            print(f'Ugh oh, ({letter}) is not in the word!')\n",
    "        return letter\n",
    "            \n",
    "# Testing the player function\n",
    "# test = hangman()\n",
    "# print(test.chosen())\n",
    "# print(test.player(\"p\"))\n",
    "\n",
    "    def check(self, choice, letter):\n",
    "        if len(self.empty_string) == len(choice):\n",
    "            print(f'Congradulations! The word is: {choice}.')\n",
    "#             play = input(\"Enter 'p' to play again: \")\n",
    "#         if play.lower() == 'p':\n",
    "            \n",
    "        \n",
    "        \n",
    "        \n"
   ]
  },
  {
   "cell_type": "code",
   "execution_count": null,
   "id": "c06b1b22",
   "metadata": {},
   "outputs": [
    {
     "name": "stdout",
     "output_type": "stream",
     "text": [
      "Please enter 's' to start the game or 'q' to quit: s\n",
      "Let's start the game!\n",
      "food\n",
      "Please enter a letter: f\n",
      "Nice! (f) is in the word!\n",
      "f\n",
      "Please enter a letter: w\n",
      "Ugh oh, (w) is not in the word!\n",
      "Please enter a letter: no\n",
      "Ugh oh, (no) is not in the word!\n",
      "Please enter a letter: ood\n",
      "Nice! (ood) is in the word!\n",
      "food\n",
      "Congradulations! The word is: food.\n"
     ]
    }
   ],
   "source": [
    "def run():\n",
    "    test = hangman()\n",
    "    while True:\n",
    "        response = input(\"Please enter 's' to start the game or 'q' to quit: \")\n",
    "        if response.lower() == 'q':\n",
    "            break\n",
    "        elif response.lower() == 's':\n",
    "            print(\"Let's start the game!\")\n",
    "            x = test.chosen()\n",
    "            while True:\n",
    "                y = test.player(x)\n",
    "                test.check(x, y)\n",
    "        else:\n",
    "            print(\"This is not a valid entry, please try again!\")\n",
    "        \n",
    "run()\n",
    "\n",
    "\n",
    "\n",
    "\n",
    "\n",
    "# if letter in choice:\n",
    "#     print(f'Nice! ({letter}) is in the word!')\n",
    "# else:\n",
    "#     print(f'Ugh oh, ({letter}) is not in the word!')"
   ]
  },
  {
   "cell_type": "code",
   "execution_count": null,
   "id": "ecd45298",
   "metadata": {},
   "outputs": [],
   "source": []
  }
 ],
 "metadata": {
  "kernelspec": {
   "display_name": "Python 3",
   "language": "python",
   "name": "python3"
  },
  "language_info": {
   "codemirror_mode": {
    "name": "ipython",
    "version": 3
   },
   "file_extension": ".py",
   "mimetype": "text/x-python",
   "name": "python",
   "nbconvert_exporter": "python",
   "pygments_lexer": "ipython3",
   "version": "3.9.5"
  }
 },
 "nbformat": 4,
 "nbformat_minor": 5
}
